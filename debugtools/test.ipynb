{
 "cells": [
  {
   "cell_type": "code",
   "execution_count": 3,
   "metadata": {},
   "outputs": [
    {
     "name": "stdout",
     "output_type": "stream",
     "text": [
      "主进程也结束了\n"
     ]
    }
   ],
   "source": [
    "# 示例代码\n",
    "# coding=utf-8\n",
    "from multiprocessing import Pipe, Process\n",
    "\n",
    "\n",
    "def son_process(x, pipe):\n",
    "    _out_pipe, _in_pipe = pipe\n",
    "\n",
    "    # 关闭fork过来的输入端\n",
    "    _in_pipe.close()\n",
    "    while True:\n",
    "        try:\n",
    "            msg = _out_pipe.recv()\n",
    "            print(msg)\n",
    "        except EOFError:\n",
    "            # 当out_pipe接受不到输出的时候且输入被关闭的时候，会抛出EORFError，可以捕获并且退出子进程\n",
    "            break\n",
    "\n",
    "\n",
    "if __name__ == '__main__':\n",
    "    out_pipe, in_pipe = Pipe(True)\n",
    "    son_p = Process(target=son_process, args=(100, (out_pipe, in_pipe)))\n",
    "    son_p.start()\n",
    "\n",
    "    # 等pipe被fork 后，关闭主进程的输出端\n",
    "    # 这样，创建的Pipe一端连接着主进程的输入，一端连接着子进程的输出口\n",
    "    out_pipe.close()\n",
    "    for x in range(1000):\n",
    "        in_pipe.send(x)\n",
    "    in_pipe.close()\n",
    "    son_p.join()\n",
    "    print (\"主进程也结束了\")"
   ]
  },
  {
   "cell_type": "code",
   "execution_count": 1,
   "metadata": {},
   "outputs": [],
   "source": [
    "import pandas as pd"
   ]
  },
  {
   "cell_type": "code",
   "execution_count": null,
   "metadata": {},
   "outputs": [],
   "source": [
    "'''\n",
    "把dictd = {'A':0}转换成DataFrame， \n",
    "首先，DataFrame的语法格式应为：\n",
    "\n",
    "import pandas as pd\n",
    "df = pd.DataFrame({'A':[0]})#'A'是columns，对应的是list\n",
    "1\n",
    "2\n",
    "输出:\n",
    "\n",
    "   A\n",
    "0  0\n",
    "1\n",
    "2\n",
    "但是如果是：\n",
    "\n",
    "df = pd.DataFrame({'A':0})#直接输入dict\n",
    "1\n",
    "会报错\n",
    "\n",
    "ValueError: If using all scalar values, you must pass an index\n",
    "1\n",
    "解决办法1： \n",
    "指定index\n",
    "\n",
    "pd.DataFrame({'A':0}，index=[0])\n",
    "1\n",
    "解决办法2： \n",
    "把字典放在list中\n",
    "\n",
    "pd.DataFrame([{'A':0},{'A':1}])\n",
    "1\n",
    "输出：\n",
    "\n",
    "   A\n",
    "0  0\n",
    "1  1\n",
    "'''"
   ]
  },
  {
   "cell_type": "code",
   "execution_count": 3,
   "metadata": {
    "scrolled": true
   },
   "outputs": [
    {
     "data": {
      "text/html": [
       "<div>\n",
       "<style scoped>\n",
       "    .dataframe tbody tr th:only-of-type {\n",
       "        vertical-align: middle;\n",
       "    }\n",
       "\n",
       "    .dataframe tbody tr th {\n",
       "        vertical-align: top;\n",
       "    }\n",
       "\n",
       "    .dataframe thead th {\n",
       "        text-align: right;\n",
       "    }\n",
       "</style>\n",
       "<table border=\"1\" class=\"dataframe\">\n",
       "  <thead>\n",
       "    <tr style=\"text-align: right;\">\n",
       "      <th></th>\n",
       "      <th>A</th>\n",
       "      <th>B</th>\n",
       "    </tr>\n",
       "  </thead>\n",
       "  <tbody>\n",
       "    <tr>\n",
       "      <th>0</th>\n",
       "      <td>0</td>\n",
       "      <td>1</td>\n",
       "    </tr>\n",
       "  </tbody>\n",
       "</table>\n",
       "</div>"
      ],
      "text/plain": [
       "   A  B\n",
       "0  0  1"
      ]
     },
     "execution_count": 3,
     "metadata": {},
     "output_type": "execute_result"
    }
   ],
   "source": [
    "\n",
    "pd.DataFrame([{'A':0,'B':1}])"
   ]
  },
  {
   "cell_type": "code",
   "execution_count": 4,
   "metadata": {},
   "outputs": [
    {
     "data": {
      "text/html": [
       "<div>\n",
       "<style scoped>\n",
       "    .dataframe tbody tr th:only-of-type {\n",
       "        vertical-align: middle;\n",
       "    }\n",
       "\n",
       "    .dataframe tbody tr th {\n",
       "        vertical-align: top;\n",
       "    }\n",
       "\n",
       "    .dataframe thead th {\n",
       "        text-align: right;\n",
       "    }\n",
       "</style>\n",
       "<table border=\"1\" class=\"dataframe\">\n",
       "  <thead>\n",
       "    <tr style=\"text-align: right;\">\n",
       "      <th></th>\n",
       "      <th>A</th>\n",
       "      <th>B</th>\n",
       "    </tr>\n",
       "  </thead>\n",
       "  <tbody>\n",
       "    <tr>\n",
       "      <th>0</th>\n",
       "      <td>0</td>\n",
       "      <td>1</td>\n",
       "    </tr>\n",
       "  </tbody>\n",
       "</table>\n",
       "</div>"
      ],
      "text/plain": [
       "   A  B\n",
       "0  0  1"
      ]
     },
     "execution_count": 4,
     "metadata": {},
     "output_type": "execute_result"
    }
   ],
   "source": [
    "pd.DataFrame({'A':0,'B':1},index=[0])"
   ]
  },
  {
   "cell_type": "code",
   "execution_count": 5,
   "metadata": {},
   "outputs": [
    {
     "data": {
      "text/plain": [
       "array([0, 1, 2, 3, 4, 5])"
      ]
     },
     "execution_count": 5,
     "metadata": {},
     "output_type": "execute_result"
    }
   ],
   "source": [
    "import numpy as np\n",
    "np.array(np.array([0,1,2,3,4,5]))"
   ]
  }
 ],
 "metadata": {
  "kernelspec": {
   "display_name": "Python 3",
   "language": "python",
   "name": "python3"
  },
  "language_info": {
   "codemirror_mode": {
    "name": "ipython",
    "version": 3
   },
   "file_extension": ".py",
   "mimetype": "text/x-python",
   "name": "python",
   "nbconvert_exporter": "python",
   "pygments_lexer": "ipython3",
   "version": "3.6.7"
  }
 },
 "nbformat": 4,
 "nbformat_minor": 2
}
