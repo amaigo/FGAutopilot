{
 "cells": [
  {
   "cell_type": "code",
   "execution_count": 3,
   "metadata": {},
   "outputs": [
    {
     "name": "stdout",
     "output_type": "stream",
     "text": [
      "主进程也结束了\n"
     ]
    }
   ],
   "source": [
    "# 示例代码\n",
    "# coding=utf-8\n",
    "from multiprocessing import Pipe, Process\n",
    "\n",
    "\n",
    "def son_process(x, pipe):\n",
    "    _out_pipe, _in_pipe = pipe\n",
    "\n",
    "    # 关闭fork过来的输入端\n",
    "    _in_pipe.close()\n",
    "    while True:\n",
    "        try:\n",
    "            msg = _out_pipe.recv()\n",
    "            print(msg)\n",
    "        except EOFError:\n",
    "            # 当out_pipe接受不到输出的时候且输入被关闭的时候，会抛出EORFError，可以捕获并且退出子进程\n",
    "            break\n",
    "\n",
    "\n",
    "if __name__ == '__main__':\n",
    "    out_pipe, in_pipe = Pipe(True)\n",
    "    son_p = Process(target=son_process, args=(100, (out_pipe, in_pipe)))\n",
    "    son_p.start()\n",
    "\n",
    "    # 等pipe被fork 后，关闭主进程的输出端\n",
    "    # 这样，创建的Pipe一端连接着主进程的输入，一端连接着子进程的输出口\n",
    "    out_pipe.close()\n",
    "    for x in range(1000):\n",
    "        in_pipe.send(x)\n",
    "    in_pipe.close()\n",
    "    son_p.join()\n",
    "    print (\"主进程也结束了\")"
   ]
  }
 ],
 "metadata": {
  "kernelspec": {
   "display_name": "Python 3",
   "language": "python",
   "name": "python3"
  },
  "language_info": {
   "codemirror_mode": {
    "name": "ipython",
    "version": 3
   },
   "file_extension": ".py",
   "mimetype": "text/x-python",
   "name": "python",
   "nbconvert_exporter": "python",
   "pygments_lexer": "ipython3",
   "version": "3.6.7"
  }
 },
 "nbformat": 4,
 "nbformat_minor": 2
}
