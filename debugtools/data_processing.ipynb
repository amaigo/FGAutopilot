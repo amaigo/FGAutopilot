{
 "cells": [
  {
   "cell_type": "code",
   "execution_count": 5,
   "metadata": {},
   "outputs": [],
   "source": [
    "import pandas as pd\n",
    "import numpy as np"
   ]
  },
  {
   "cell_type": "code",
   "execution_count": 2,
   "metadata": {},
   "outputs": [],
   "source": [
    "pid_traindata = pd.read_csv(\"pid_traindata_sample.csv\")"
   ]
  },
  {
   "cell_type": "code",
   "execution_count": 18,
   "metadata": {},
   "outputs": [],
   "source": [
    "DATA_BOUNDS = {\n",
    "    'pitch-deg': [-90., 90.],  # 飞机俯仰角\n",
    "    'roll-deg': [-180., 180.],  # 飞机滚转角\n",
    "    'heading-deg': [0., 360.],  # 飞机朝向\n",
    "    'vsi-fpm': [0., 10.0],  # 爬升速度\n",
    "    'uBody-fps': [0., 600.],  # 飞机沿机身X轴的速度\n",
    "    'vBody-fps': [-200., 200.],  # 飞机沿机身Y轴的速度\n",
    "    'wBody-fps': [-200., 200.],  # 飞机沿机身Z轴的速度\n",
    "    'x-accel-fps_sec': [0., 50.],  # 飞机沿机身X轴的加速度\n",
    "    'y-accel-fps_sec': [-30., 30.],  # 飞机沿机身Y轴的加速度\n",
    "    'z-accel-fps_sec': [-300., 300.],  # 飞机沿机身z轴的加速度\n",
    "    'aileron': [-1, 1],  # 副翼 控制飞机翻滚 [-1,1] left/right\n",
    "    'elevator': [-1, 1],  # 升降舵 控制飞机爬升 [-1,1] up/down\n",
    "    'rudder': [-1, 1],  # 方向舵 控制飞机转弯（地面飞机方向控制） 0 /enter\n",
    "    'throttle0': [0, 1],  # 油门0\n",
    "    'throttle1': [0, 1],  # 油门1\n",
    "    'flaps': [0, 1], # 襟翼 在飞机起降过程中增加升力，阻力  Key[ / ]\tExtend / retract flaps\n",
    "    #TODO: 方向舵调整片\n",
    "    'a_aileron': [-1, 1],  # 副翼 控制飞机翻滚 [-1,1] left/right\n",
    "    'a_elevator': [-1, 1],  # 升降舵 控制飞机爬升 [-1,1] up/down\n",
    "    'a_rudder': [-1, 1],  # 方向舵 控制飞机转弯（地面飞机方向控制） 0 /enter\n",
    "    'a_throttle0': [0, 1],  # 油门0\n",
    "    'a_throttle1': [0, 1],  # 油门1\n",
    "}"
   ]
  },
  {
   "cell_type": "code",
   "execution_count": 19,
   "metadata": {},
   "outputs": [],
   "source": [
    "data_bounds = pd.DataFrame.from_dict(DATA_BOUNDS)"
   ]
  },
  {
   "cell_type": "code",
   "execution_count": 20,
   "metadata": {},
   "outputs": [
    {
     "data": {
      "text/html": [
       "<div>\n",
       "<style scoped>\n",
       "    .dataframe tbody tr th:only-of-type {\n",
       "        vertical-align: middle;\n",
       "    }\n",
       "\n",
       "    .dataframe tbody tr th {\n",
       "        vertical-align: top;\n",
       "    }\n",
       "\n",
       "    .dataframe thead th {\n",
       "        text-align: right;\n",
       "    }\n",
       "</style>\n",
       "<table border=\"1\" class=\"dataframe\">\n",
       "  <thead>\n",
       "    <tr style=\"text-align: right;\">\n",
       "      <th></th>\n",
       "      <th>pitch-deg</th>\n",
       "      <th>roll-deg</th>\n",
       "      <th>heading-deg</th>\n",
       "      <th>vsi-fpm</th>\n",
       "      <th>uBody-fps</th>\n",
       "      <th>vBody-fps</th>\n",
       "      <th>wBody-fps</th>\n",
       "      <th>x-accel-fps_sec</th>\n",
       "      <th>y-accel-fps_sec</th>\n",
       "      <th>z-accel-fps_sec</th>\n",
       "      <th>...</th>\n",
       "      <th>elevator</th>\n",
       "      <th>rudder</th>\n",
       "      <th>throttle0</th>\n",
       "      <th>throttle1</th>\n",
       "      <th>flaps</th>\n",
       "      <th>a_aileron</th>\n",
       "      <th>a_elevator</th>\n",
       "      <th>a_rudder</th>\n",
       "      <th>a_throttle0</th>\n",
       "      <th>a_throttle1</th>\n",
       "    </tr>\n",
       "  </thead>\n",
       "  <tbody>\n",
       "    <tr>\n",
       "      <th>0</th>\n",
       "      <td>-90.0</td>\n",
       "      <td>-180.0</td>\n",
       "      <td>0.0</td>\n",
       "      <td>0.0</td>\n",
       "      <td>0.0</td>\n",
       "      <td>-200.0</td>\n",
       "      <td>-200.0</td>\n",
       "      <td>0.0</td>\n",
       "      <td>-30.0</td>\n",
       "      <td>-300.0</td>\n",
       "      <td>...</td>\n",
       "      <td>-1</td>\n",
       "      <td>-1</td>\n",
       "      <td>0</td>\n",
       "      <td>0</td>\n",
       "      <td>0</td>\n",
       "      <td>-1</td>\n",
       "      <td>-1</td>\n",
       "      <td>-1</td>\n",
       "      <td>0</td>\n",
       "      <td>0</td>\n",
       "    </tr>\n",
       "    <tr>\n",
       "      <th>1</th>\n",
       "      <td>90.0</td>\n",
       "      <td>180.0</td>\n",
       "      <td>360.0</td>\n",
       "      <td>10.0</td>\n",
       "      <td>600.0</td>\n",
       "      <td>200.0</td>\n",
       "      <td>200.0</td>\n",
       "      <td>50.0</td>\n",
       "      <td>30.0</td>\n",
       "      <td>300.0</td>\n",
       "      <td>...</td>\n",
       "      <td>1</td>\n",
       "      <td>1</td>\n",
       "      <td>1</td>\n",
       "      <td>1</td>\n",
       "      <td>1</td>\n",
       "      <td>1</td>\n",
       "      <td>1</td>\n",
       "      <td>1</td>\n",
       "      <td>1</td>\n",
       "      <td>1</td>\n",
       "    </tr>\n",
       "  </tbody>\n",
       "</table>\n",
       "<p>2 rows × 21 columns</p>\n",
       "</div>"
      ],
      "text/plain": [
       "   pitch-deg  roll-deg  heading-deg  vsi-fpm  uBody-fps  vBody-fps  wBody-fps  \\\n",
       "0      -90.0    -180.0          0.0      0.0        0.0     -200.0     -200.0   \n",
       "1       90.0     180.0        360.0     10.0      600.0      200.0      200.0   \n",
       "\n",
       "   x-accel-fps_sec  y-accel-fps_sec  z-accel-fps_sec     ...       elevator  \\\n",
       "0              0.0            -30.0           -300.0     ...             -1   \n",
       "1             50.0             30.0            300.0     ...              1   \n",
       "\n",
       "   rudder  throttle0  throttle1  flaps  a_aileron  a_elevator  a_rudder  \\\n",
       "0      -1          0          0      0         -1          -1        -1   \n",
       "1       1          1          1      1          1           1         1   \n",
       "\n",
       "   a_throttle0  a_throttle1  \n",
       "0            0            0  \n",
       "1            1            1  \n",
       "\n",
       "[2 rows x 21 columns]"
      ]
     },
     "execution_count": 20,
     "metadata": {},
     "output_type": "execute_result"
    }
   ],
   "source": [
    "data_bounds"
   ]
  },
  {
   "cell_type": "code",
   "execution_count": 21,
   "metadata": {},
   "outputs": [
    {
     "data": {
      "text/plain": [
       "a_aileron                0.848693\n",
       "a_elevator               0.406004\n",
       "a_rudder                 0.907000\n",
       "a_throttle0              0.010000\n",
       "a_throttle1              0.010000\n",
       "ai-offset                     NaN\n",
       "ai-pitch                      NaN\n",
       "ai-roll                       NaN\n",
       "aileron                  0.848693\n",
       "airspeed-kt                   NaN\n",
       "alt-ft                        NaN\n",
       "altitude                      NaN\n",
       "crashed                       NaN\n",
       "down-accel-fps_sec            NaN\n",
       "east-accel-fps_sec            NaN\n",
       "elevator                 0.406004\n",
       "flaps                    0.000000\n",
       "heading-deg             89.992182\n",
       "hi-heading                    NaN\n",
       "latitude                      NaN\n",
       "longitude                     NaN\n",
       "north-accel-fps_sec           NaN\n",
       "pitch-deg               90.372688\n",
       "roll-deg               178.511568\n",
       "rudder                   0.907000\n",
       "speed-down-fps                NaN\n",
       "speed-east-fps                NaN\n",
       "speed-north-fps               NaN\n",
       "throttle0                0.000000\n",
       "throttle1                0.000000\n",
       "uBody-fps                0.000000\n",
       "vBody-fps              190.768641\n",
       "vsi-fpm                  0.000000\n",
       "wBody-fps              200.000000\n",
       "x-accel-fps_sec          0.000000\n",
       "y-accel-fps_sec         29.230948\n",
       "z-accel-fps_sec        224.386726\n",
       "dtype: float64"
      ]
     },
     "execution_count": 21,
     "metadata": {},
     "output_type": "execute_result"
    }
   ],
   "source": [
    "(pid_traindata - data_bounds.min()).min()"
   ]
  },
  {
   "cell_type": "code",
   "execution_count": 22,
   "metadata": {},
   "outputs": [
    {
     "data": {
      "text/plain": [
       "a_aileron                1.148843\n",
       "a_elevator               1.090589\n",
       "a_rudder                 1.035000\n",
       "a_throttle0              0.600000\n",
       "a_throttle1              0.600000\n",
       "ai-offset                     NaN\n",
       "ai-pitch                      NaN\n",
       "ai-roll                       NaN\n",
       "aileron                  1.148843\n",
       "airspeed-kt                   NaN\n",
       "alt-ft                        NaN\n",
       "altitude                      NaN\n",
       "crashed                       NaN\n",
       "down-accel-fps_sec            NaN\n",
       "east-accel-fps_sec            NaN\n",
       "elevator                 1.090589\n",
       "flaps                    0.000000\n",
       "heading-deg             93.015763\n",
       "hi-heading                    NaN\n",
       "latitude                      NaN\n",
       "longitude                     NaN\n",
       "north-accel-fps_sec           NaN\n",
       "pitch-deg              113.129216\n",
       "roll-deg               181.513065\n",
       "rudder                   1.035000\n",
       "speed-down-fps                NaN\n",
       "speed-east-fps                NaN\n",
       "speed-north-fps               NaN\n",
       "throttle0                0.600000\n",
       "throttle1                0.600000\n",
       "uBody-fps              436.408020\n",
       "vBody-fps              200.000588\n",
       "vsi-fpm                  0.000000\n",
       "wBody-fps              261.257980\n",
       "x-accel-fps_sec         14.900751\n",
       "y-accel-fps_sec         33.692399\n",
       "z-accel-fps_sec        277.892965\n",
       "dtype: float64"
      ]
     },
     "execution_count": 22,
     "metadata": {},
     "output_type": "execute_result"
    }
   ],
   "source": [
    "(pid_traindata - data_bounds.min()).max()"
   ]
  },
  {
   "cell_type": "code",
   "execution_count": 33,
   "metadata": {},
   "outputs": [],
   "source": [
    "res = ((pid_traindata - data_bounds.min())/(data_bounds.max() - data_bounds.min())).dropna(axis=1,how=\"any\")"
   ]
  },
  {
   "cell_type": "code",
   "execution_count": 36,
   "metadata": {},
   "outputs": [
    {
     "data": {
      "text/plain": [
       "(21, 2)"
      ]
     },
     "execution_count": 36,
     "metadata": {},
     "output_type": "execute_result"
    }
   ],
   "source": [
    "info=pd.concat([res.min(),res.max()], axis=1)\n",
    "info.shape"
   ]
  }
 ],
 "metadata": {
  "kernelspec": {
   "display_name": "Python 3",
   "language": "python",
   "name": "python3"
  },
  "language_info": {
   "codemirror_mode": {
    "name": "ipython",
    "version": 3
   },
   "file_extension": ".py",
   "mimetype": "text/x-python",
   "name": "python",
   "nbconvert_exporter": "python",
   "pygments_lexer": "ipython3",
   "version": "3.6.7"
  }
 },
 "nbformat": 4,
 "nbformat_minor": 2
}
