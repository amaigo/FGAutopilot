{
 "cells": [
  {
   "cell_type": "code",
   "execution_count": null,
   "metadata": {},
   "outputs": [
    {
     "name": "stderr",
     "output_type": "stream",
     "text": [
      "D:\\Users\\niebu\\Anaconda3\\lib\\site-packages\\h5py\\__init__.py:36: FutureWarning: Conversion of the second argument of issubdtype from `float` to `np.floating` is deprecated. In future, it will be treated as `np.float64 == np.dtype(float).type`.\n",
      "  from ._conv import register_converters as _register_converters\n"
     ]
    }
   ],
   "source": [
    "import time\n",
    "import numpy as np\n",
    "import DRL.takeoff_dqn as tfdqn\n",
    "import LLCsimple\n",
    "import LLC \n",
    "import scaffold.fgdata as dfer\n",
    "import scaffold.pidpilot as PID\n",
    "import datetime\n",
    "import fgmodule.fgenv as fgenv\n",
    "import pandas as pd\n",
    "import os\n",
    "from scaffold.timer import gettime\n",
    "\n",
    "'''\n",
    "##########controlframe############\n",
    "\n",
    "\n",
    "##########state_dict##############\n",
    "{'aileron': 0.0, 'elevator': 0.0, 'rudder': -0.026, 'flaps': 0.0, 'throttle0': 0.6, 'throttle1': 0.6, 'vsi-fpm': 0.0, 'alt-ft': -372.808502, 'ai-pitch': 0.401045, 'ai-roll': 0.050598, 'ai-offset': 0.0, 'hi-heading': 80.568947, 'roll-deg': 0.050616, 'pitch-deg': 0.401055, 'heading-deg': 90.013458, 'airspeed-kt': 71.631187, 'speed-north-fps': -0.021637, 'speed-east-fps': 119.609383, 'speed-down-fps': -0.071344, 'uBody-fps': 119.606964, 'vBody-fps': -0.005778, 'wBody-fps': 0.765776, 'north-accel-fps_sec': 0.118887, 'east-accel-fps_sec': 5.870498, 'down-accel-fps_sec': -0.003219, 'x-accel-fps_sec': 6.095403, 'y-accel-fps_sec': -0.148636, 'z-accel-fps_sec': -32.113453, 'latitude': 21.325245, 'longitude': -157.93947, 'altitude': 22.297876, 'crashed': 0.0}\n",
    "'''\n",
    "\n",
    "LLC_FEATURE_BOUNDS = {\n",
    "    'aileron': [-1, 1],  # 副翼 控制飞机翻滚 [-1,1] left/right\n",
    "    'rudder': [-1, 1],  # 方向舵 控制飞机转弯（地面飞机方向控制） 0 /enter\n",
    "    'pitch-deg': [-90., 90.],  # 飞机俯仰角\n",
    "    'roll-deg': [-180., 180.],  # 飞机滚转角\n",
    "    'heading-deg': [0., 360.],  # 飞机朝向\n",
    "}\n",
    "LLC_GOAL_BOUNDS = {\n",
    "    'pitch-deg': [-90., 90.],  # 飞机俯仰角\n",
    "    'roll-deg': [-180., 180.],  # 飞机滚转角\n",
    "    'heading-deg': [0., 360.],  # 飞机朝向\n",
    "}\n",
    "goals = {\n",
    "    'pitch-deg': 0.,  # 飞机俯仰角\n",
    "    'roll-deg': 0.,  # 飞机滚转角\n",
    "    'heading-deg': 90.,  # 飞机朝向\n",
    "}\n",
    "\n",
    "LLC_ACTION_BOUNDS = {\n",
    "    'aileron': [-1, 1],  # 副翼 控制飞机翻滚 [-1,1] left/right\n",
    "    'rudder': [-1, 1],  # 方向舵 控制飞机转弯（地面飞机方向控制） 0 /enter\n",
    "}\n",
    "\n",
    "def fgstart(fg2client_addr=(\"127.0.0.1\", 5700), client2fg_addr=(\"127.0.0.1\", 5701), telnet_addr=(\"127.0.0.1\", 5555)):\n",
    "    '''\n",
    "    简化FG通信启动过程\n",
    "    ---\n",
    "    Inputs:\n",
    "        - fg2client_addr\n",
    "        - client2fg_addr\n",
    "        - telnet_addr\n",
    "    Outputs:\n",
    "        - myfgenv:初始话完成的fgenv类\n",
    "\n",
    "    '''\n",
    "    myfgenv = fgenv.fgenv(telnet_addr, fg2client_addr, client2fg_addr)\n",
    "    # initial_state = myfgenv.initial()\n",
    "    myfgenv.initial()\n",
    "\n",
    "    return myfgenv\n",
    "\n",
    "\n",
    "MAX_EPISODE = 1000\n",
    "MAX_EP_STEPS = 200\n",
    "\n",
    "GAMMA = 0.9\n",
    "LR_A = 0.001    # learning rate for actor\n",
    "LR_C = 0.01     # learning rate for critic\n",
    "\n",
    "##\n",
    "epoch = 100\n",
    "step = 300"
   ]
  },
  {
   "cell_type": "code",
   "execution_count": null,
   "metadata": {
    "scrolled": true
   },
   "outputs": [
    {
     "name": "stdout",
     "output_type": "stream",
     "text": [
      "flylog saving path check pass!\n",
      "send data to 127.0.0.1:5701 !\n",
      "fgudp is ready!!!\n",
      "Bind UDP on 127.0.0.1:5700 !\n",
      "save log to data/flylog\n"
     ]
    },
    {
     "name": "stderr",
     "output_type": "stream",
     "text": [
      "Exception in thread Thread-6:\n",
      "Traceback (most recent call last):\n",
      "  File \"D:\\Users\\niebu\\Anaconda3\\lib\\threading.py\", line 916, in _bootstrap_inner\n",
      "    self.run()\n",
      "  File \"D:\\Users\\niebu\\Anaconda3\\lib\\threading.py\", line 864, in run\n",
      "    self._target(*self._args, **self._kwargs)\n",
      "  File \"C:\\Users\\niebu\\Desktop\\FlightGear\\FGAutopilot\\FGAutopilot\\fgmodule\\fgudp.py\", line 157, in receiver\n",
      "    dict2df(data_dict), ignore_index=True, sort=False)\n",
      "TypeError: append() got an unexpected keyword argument 'sort'\n",
      "\n"
     ]
    },
    {
     "name": "stdout",
     "output_type": "stream",
     "text": [
      "auto start完成 14 : 35 : 35\n",
      "fgudp stop begin! waiting for 2 thread quit\n",
      "send data to 127.0.0.1:5701 stop!\n"
     ]
    }
   ],
   "source": [
    "myfgenv = fgstart()\n",
    "\n",
    "# bounds = {\n",
    "#     'rudder': [-1, 1],  # 方向舵 控制飞机转弯（地面飞机方向控制） 0 /enter\n",
    "# }"
   ]
  },
  {
   "cell_type": "code",
   "execution_count": 12,
   "metadata": {},
   "outputs": [],
   "source": []
  },
  {
   "cell_type": "code",
   "execution_count": null,
   "metadata": {},
   "outputs": [],
   "source": [
    "myllc = LLCsimple.LLC(LLC_FEATURE_BOUNDS,LLC_GOAL_BOUNDS,LLC_ACTION_BOUNDS)"
   ]
  },
  {
   "cell_type": "code",
   "execution_count": null,
   "metadata": {},
   "outputs": [],
   "source": [
    "state = myfgenv.replay()"
   ]
  },
  {
   "cell_type": "code",
   "execution_count": 3,
   "metadata": {
    "scrolled": true
   },
   "outputs": [],
   "source": [
    "state = {'aileron': 0.0,\n",
    " 'elevator': 0.0,\n",
    " 'rudder': 0.0,\n",
    " 'flaps': 0.0,\n",
    " 'throttle0': 0.0,\n",
    " 'throttle1': 0.0,\n",
    " 'vsi-fpm': 0.0,\n",
    " 'alt-ft': -370.319122,\n",
    " 'ai-pitch': 0.534232,\n",
    " 'ai-roll': 0.277171,\n",
    " 'ai-offset': 0.0,\n",
    " 'hi-heading': 83.792358,\n",
    " 'roll-deg': 0.056131,\n",
    " 'pitch-deg': 0.467942,\n",
    " 'heading-deg': 90.00074,\n",
    " 'airspeed-kt': 1.532065,\n",
    " 'speed-north-fps': -0.000281,\n",
    " 'speed-east-fps': -0.007067,\n",
    " 'speed-down-fps': 0.000105,\n",
    " 'uBody-fps': -0.007067,\n",
    " 'vBody-fps': 0.000281,\n",
    " 'wBody-fps': 4.7e-05,\n",
    " 'north-accel-fps_sec': -1.4e-05,\n",
    " 'east-accel-fps_sec': -0.009769,\n",
    " 'down-accel-fps_sec': -0.000142,\n",
    " 'x-accel-fps_sec': 0.252822,\n",
    " 'y-accel-fps_sec': -0.031483,\n",
    " 'z-accel-fps_sec': -32.151367,\n",
    " 'latitude': 21.325247,\n",
    " 'longitude': -157.943137,\n",
    " 'altitude': 21.358186,\n",
    " 'crashed': 0.0}"
   ]
  },
  {
   "cell_type": "code",
   "execution_count": null,
   "metadata": {},
   "outputs": [],
   "source": [
    "goal = goals"
   ]
  },
  {
   "cell_type": "code",
   "execution_count": 5,
   "metadata": {},
   "outputs": [
    {
     "data": {
      "text/plain": [
       "{'heading-deg': [0.0, 360.0],\n",
       " 'pitch-deg': [-90.0, 90.0],\n",
       " 'roll-deg': [-180.0, 180.0]}"
      ]
     },
     "execution_count": 5,
     "metadata": {},
     "output_type": "execute_result"
    }
   ],
   "source": [
    "myllc.goals"
   ]
  },
  {
   "cell_type": "code",
   "execution_count": 53,
   "metadata": {
    "scrolled": true
   },
   "outputs": [],
   "source": [
    "\n"
   ]
  },
  {
   "cell_type": "code",
   "execution_count": 52,
   "metadata": {},
   "outputs": [
    {
     "data": {
      "text/plain": [
       "array([-0.30626116,  0.13050586, -0.09737893])"
      ]
     },
     "execution_count": 52,
     "metadata": {},
     "output_type": "execute_result"
    }
   ],
   "source": []
  },
  {
   "cell_type": "code",
   "execution_count": 18,
   "metadata": {},
   "outputs": [
    {
     "name": "stdout",
     "output_type": "stream",
     "text": [
      "-0.22856518503856765\n",
      "[ 0.07786101 -0.29836827]\n",
      "[-0.2625425 -0.0486648]\n"
     ]
    }
   ],
   "source": [
    "action ,_ = myllc.choose_action(state,goal)\n",
    "print(LLCsimple.llc_reward(state , goal, old_action, action, 0))\n",
    "print(action)\n",
    "print(old_action)\n",
    "old_action = action"
   ]
  },
  {
   "cell_type": "code",
   "execution_count": 9,
   "metadata": {},
   "outputs": [
    {
     "data": {
      "text/plain": [
       "<module 'LLCsimple' from 'C:\\\\Users\\\\niebu\\\\Desktop\\\\FlightGear\\\\FGAutopilot\\\\FGAutopilot\\\\LLCsimple.py'>"
      ]
     },
     "execution_count": 9,
     "metadata": {},
     "output_type": "execute_result"
    }
   ],
   "source": [
    "import importlib\n",
    "importlib.reload(LLCsimple)"
   ]
  },
  {
   "cell_type": "code",
   "execution_count": null,
   "metadata": {},
   "outputs": [],
   "source": [
    "action = np.array([0.,0.])\n",
    "old_action = np.array([0.,0.])"
   ]
  },
  {
   "cell_type": "code",
   "execution_count": null,
   "metadata": {},
   "outputs": [],
   "source": [
    " for e in range(epoch):\n",
    "        state = myfgenv.replay(\"sky\")\n",
    "        time.sleep(2)\n",
    "\n",
    "        next_goal = goal\n",
    "\n",
    "        ep_reward = 0\n",
    "\n",
    "        for s in range(step):\n",
    "        \n",
    "            \n",
    "            old_action = action \n",
    "            action,action_true = myllc.choose_action(state,goal)\n",
    "            \n",
    "\n",
    "            action_frame = dfer.action2frame((action_true[0],0.0,action_true[1],0.6,0.6))\n",
    "            \n",
    "            next_state, reward , done , info = myfgenv.step(action_frame) \n",
    "            \n",
    "            r_ = LLCsimple.llc_reward(state , goal,old_action,action ,reward)\n",
    "            \n",
    "            next_goal = goals\n",
    "            myllc.learn(state, goal, r_, action,next_state , next_goal)\n",
    "            \n",
    "            state = next_state\n",
    "            goal = next_goal\n",
    "\n",
    "            ep_reward += r_\n",
    "            if done:\n",
    "                print('Episode:', e, ' Reward: %i' %\n",
    "                      int(ep_reward), 'Explore: %.2f' % myllc.var, )\n",
    "                break\n",
    "            \n",
    "            if s == step-1:\n",
    "                print('Episode:', e, ' Reward: %i' %\n",
    "                      int(ep_reward), 'Explore: %.2f' % myllc.var, )\n",
    "                # if ep_reward > -300:RENDER = True\n",
    "                break\n",
    "            time.sleep(0.1)"
   ]
  },
  {
   "cell_type": "code",
   "execution_count": 38,
   "metadata": {},
   "outputs": [
    {
     "data": {
      "text/plain": [
       "25081"
      ]
     },
     "execution_count": 38,
     "metadata": {},
     "output_type": "execute_result"
    }
   ],
   "source": [
    "myllc.ddpg.pointer"
   ]
  },
  {
   "cell_type": "code",
   "execution_count": 37,
   "metadata": {},
   "outputs": [
    {
     "name": "stdout",
     "output_type": "stream",
     "text": [
      "0.0027973283603017762\n"
     ]
    }
   ],
   "source": [
    "t1= time.clock()\n",
    "myllc.learn(state, goal, r_, action,next_state , next_goal)\n",
    "print(time.clock()-t1)"
   ]
  }
 ],
 "metadata": {
  "kernelspec": {
   "display_name": "Python 3",
   "language": "python",
   "name": "python3"
  },
  "language_info": {
   "codemirror_mode": {
    "name": "ipython",
    "version": 3
   },
   "file_extension": ".py",
   "mimetype": "text/x-python",
   "name": "python",
   "nbconvert_exporter": "python",
   "pygments_lexer": "ipython3",
   "version": "3.6.4"
  }
 },
 "nbformat": 4,
 "nbformat_minor": 2
}
