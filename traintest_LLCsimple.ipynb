{
 "cells": [
  {
   "cell_type": "code",
   "execution_count": 1,
   "metadata": {},
   "outputs": [],
   "source": [
    "import time\n",
    "import pprint\n",
    "import numpy as np\n",
    "import DRL.takeoff_dqn as tfdqn\n",
    "import LLCsimple\n",
    "import LLC \n",
    "import scaffold.fgdata as dfer\n",
    "import scaffold.pidpilot as PID\n",
    "import datetime\n",
    "import fgmodule.fgenv as fgenv\n",
    "import pandas as pd\n",
    "import os\n",
    "from scaffold.timer import gettime\n",
    "import gym\n",
    "\n",
    "'''\n",
    "##########controlframe############\n",
    "\n",
    "\n",
    "##########state_dict##############\n",
    "{'aileron': 0.0, 'elevator': 0.0, 'rudder': -0.026, 'flaps': 0.0, 'throttle0': 0.6, 'throttle1': 0.6, 'vsi-fpm': 0.0, 'alt-ft': -372.808502, 'ai-pitch': 0.401045, 'ai-roll': 0.050598, 'ai-offset': 0.0, 'hi-heading': 80.568947, 'roll-deg': 0.050616, 'pitch-deg': 0.401055, 'heading-deg': 90.013458, 'airspeed-kt': 71.631187, 'speed-north-fps': -0.021637, 'speed-east-fps': 119.609383, 'speed-down-fps': -0.071344, 'uBody-fps': 119.606964, 'vBody-fps': -0.005778, 'wBody-fps': 0.765776, 'north-accel-fps_sec': 0.118887, 'east-accel-fps_sec': 5.870498, 'down-accel-fps_sec': -0.003219, 'x-accel-fps_sec': 6.095403, 'y-accel-fps_sec': -0.148636, 'z-accel-fps_sec': -32.113453, 'latitude': 21.325245, 'longitude': -157.93947, 'altitude': 22.297876, 'crashed': 0.0}\n",
    "'''\n",
    "\n",
    "LLC_FEATURE_BOUNDS = {\n",
    "    'aileron': [-1, 1],  # 副翼 控制飞机翻滚 [-1,1] left/right\n",
    "    'rudder': [-1, 1],  # 方向舵 控制飞机转弯（地面飞机方向控制） 0 /enter\n",
    "    'throttle0': [0, 1],  # 油门0\n",
    "    'pitch-deg': [-90., 90.],  # 飞机俯仰角\n",
    "    'roll-deg': [-180., 180.],  # 飞机滚转角\n",
    "    'heading-deg': [0., 360.],  # 飞机朝向\n",
    "}\n",
    "LLC_GOAL_BOUNDS = {\n",
    "    'pitch-deg': [-90., 90.],  # 飞机俯仰角\n",
    "    'roll-deg': [-180., 180.],  # 飞机滚转角\n",
    "    'heading-deg': [0., 360.],  # 飞机朝向\n",
    "}\n",
    "goals = {\n",
    "    'pitch-deg': 0.,  # 飞机俯仰角\n",
    "    'roll-deg': 0.,  # 飞机滚转角\n",
    "    'heading-deg': 90.,  # 飞机朝向\n",
    "}\n",
    "\n",
    "LLC_ACTION_BOUNDS = {\n",
    "    'aileron': [-1, 1],  # 副翼 控制飞机翻滚 [-1,1] left/right\n",
    "    'rudder': [-1, 1],  # 方向舵 控制飞机转弯（地面飞机方向控制） 0 /enter\n",
    "    'throttle': [0, 1],  # 油门0\n",
    "}\n",
    "\n",
    "def fgstart(fg2client_addr=(\"127.0.0.1\", 5700), client2fg_addr=(\"127.0.0.1\", 5701), telnet_addr=(\"127.0.0.1\", 5555)):\n",
    "    '''\n",
    "    简化FG通信启动过程\n",
    "    ---\n",
    "    Inputs:\n",
    "        - fg2client_addr\n",
    "        - client2fg_addr\n",
    "        - telnet_addr\n",
    "    Outputs:\n",
    "        - myfgenv:初始话完成的fgenv类\n",
    "\n",
    "    '''\n",
    "    myfgenv = fgenv.fgenv(telnet_addr, fg2client_addr, client2fg_addr)\n",
    "    # initial_state = myfgenv.initial()\n",
    "    myfgenv.initial()\n",
    "\n",
    "    return myfgenv\n",
    "\n",
    "\n",
    "MAX_EPISODE = 1000\n",
    "MAX_EP_STEPS = 200\n",
    "\n",
    "GAMMA = 0.9\n",
    "LR_A = 0.001    # learning rate for actor\n",
    "LR_C = 0.01     # learning rate for critic\n",
    "\n",
    "##\n",
    "epoch = 100\n",
    "step = 300"
   ]
  },
  {
   "cell_type": "code",
   "execution_count": 71,
   "metadata": {},
   "outputs": [
    {
     "name": "stdout",
     "output_type": "stream",
     "text": [
      "flylog saving path check pass!\n",
      "send data to 127.0.0.1:5701 !\n",
      "fgudp is ready!!!\n",
      "Bind UDP on 127.0.0.1:5700 !\n",
      "save log to data/flylog\n",
      "auto start完成 13 : 45 : 52\n",
      "fgudp stop begin! waiting for 2 thread quit\n",
      "send data to 127.0.0.1:5701 stop!\n",
      "UDP rece on 127.0.0.1:5700 stop!\n",
      "reset完成 13 : 45 : 53\n",
      "flylog saving path check pass!\n",
      "send data to 127.0.0.1:5701 !\n",
      "fgudp is ready!!!\n",
      "Bind UDP on 127.0.0.1:5700 !\n",
      "save log to data/flylog\n",
      "auto start完成 13 : 46 : 48\n"
     ]
    }
   ],
   "source": [
    "myfgenv = fgstart()\n",
    "\n",
    "# bounds = {\n",
    "#     'rudder': [-1, 1],  # 方向舵 控制飞机转弯（地面飞机方向控制） 0 /enter\n",
    "# }"
   ]
  },
  {
   "cell_type": "code",
   "execution_count": 12,
   "metadata": {},
   "outputs": [],
   "source": []
  },
  {
   "cell_type": "code",
   "execution_count": 2,
   "metadata": {},
   "outputs": [],
   "source": [
    "myllc = LLCsimple.LLC(LLC_FEATURE_BOUNDS,LLC_GOAL_BOUNDS,LLC_ACTION_BOUNDS)"
   ]
  },
  {
   "cell_type": "code",
   "execution_count": 6,
   "metadata": {},
   "outputs": [
    {
     "name": "stdout",
     "output_type": "stream",
     "text": [
      "replay to ground 完成!time:13 : 28 : 47\n",
      "auto start完成 13 : 28 : 50\n"
     ]
    }
   ],
   "source": [
    "state = myfgenv.replay()"
   ]
  },
  {
   "cell_type": "code",
   "execution_count": 3,
   "metadata": {
    "scrolled": true
   },
   "outputs": [],
   "source": [
    "state = {'aileron': 0.0,\n",
    " 'elevator': 0.0,\n",
    " 'rudder': 0.0,\n",
    " 'flaps': 0.0,\n",
    " 'throttle0': 0.0,\n",
    " 'throttle1': 0.0,\n",
    " 'vsi-fpm': 0.0,\n",
    " 'alt-ft': -370.319122,\n",
    " 'ai-pitch': 0.534232,\n",
    " 'ai-roll': 0.277171,\n",
    " 'ai-offset': 0.0,\n",
    " 'hi-heading': 83.792358,\n",
    " 'roll-deg': 0.056131,\n",
    " 'pitch-deg': 0.467942,\n",
    " 'heading-deg': 90.00074,\n",
    " 'airspeed-kt': 1.532065,\n",
    " 'speed-north-fps': -0.000281,\n",
    " 'speed-east-fps': -0.007067,\n",
    " 'speed-down-fps': 0.000105,\n",
    " 'uBody-fps': -0.007067,\n",
    " 'vBody-fps': 0.000281,\n",
    " 'wBody-fps': 4.7e-05,\n",
    " 'north-accel-fps_sec': -1.4e-05,\n",
    " 'east-accel-fps_sec': -0.009769,\n",
    " 'down-accel-fps_sec': -0.000142,\n",
    " 'x-accel-fps_sec': 0.252822,\n",
    " 'y-accel-fps_sec': -0.031483,\n",
    " 'z-accel-fps_sec': -32.151367,\n",
    " 'latitude': 21.325247,\n",
    " 'longitude': -157.943137,\n",
    " 'altitude': 21.358186,\n",
    " 'crashed': 0.0}"
   ]
  },
  {
   "cell_type": "code",
   "execution_count": 4,
   "metadata": {},
   "outputs": [],
   "source": [
    "goal = goals"
   ]
  },
  {
   "cell_type": "code",
   "execution_count": 5,
   "metadata": {},
   "outputs": [
    {
     "data": {
      "text/plain": [
       "{'pitch-deg': [-90.0, 90.0],\n",
       " 'roll-deg': [-180.0, 180.0],\n",
       " 'heading-deg': [0.0, 360.0]}"
      ]
     },
     "execution_count": 5,
     "metadata": {},
     "output_type": "execute_result"
    }
   ],
   "source": [
    "myllc.goals"
   ]
  },
  {
   "cell_type": "code",
   "execution_count": 53,
   "metadata": {
    "scrolled": true
   },
   "outputs": [],
   "source": [
    "\n"
   ]
  },
  {
   "cell_type": "code",
   "execution_count": 52,
   "metadata": {},
   "outputs": [
    {
     "data": {
      "text/plain": [
       "array([-0.30626116,  0.13050586, -0.09737893])"
      ]
     },
     "execution_count": 52,
     "metadata": {},
     "output_type": "execute_result"
    }
   ],
   "source": []
  },
  {
   "cell_type": "code",
   "execution_count": 69,
   "metadata": {},
   "outputs": [
    {
     "name": "stdout",
     "output_type": "stream",
     "text": [
      "-0.35585293870852\n",
      "[0.22711391 0.07321904 0.14892279]\n",
      "[-0.14034061 -0.37562894  0.03714219]\n"
     ]
    }
   ],
   "source": [
    "action ,_ = myllc.choose_action(state,goal)\n",
    "print(LLCsimple.llc_reward(state , goal, old_action, action, 0))\n",
    "print(action)\n",
    "print(old_action)\n",
    "old_action = action"
   ]
  },
  {
   "cell_type": "code",
   "execution_count": 3,
   "metadata": {},
   "outputs": [
    {
     "data": {
      "text/plain": [
       "<module 'LLCsimple' from 'E:\\\\project\\\\flightgear\\\\FGAutopilot\\\\LLCsimple.py'>"
      ]
     },
     "execution_count": 3,
     "metadata": {},
     "output_type": "execute_result"
    }
   ],
   "source": [
    "import importlib\n",
    "importlib.reload(LLCsimple)"
   ]
  },
  {
   "cell_type": "code",
   "execution_count": 70,
   "metadata": {},
   "outputs": [],
   "source": [
    "action = np.array([0.,0.,0.])\n",
    "old_action = np.array([0.,0.,0.])"
   ]
  },
  {
   "cell_type": "code",
   "execution_count": null,
   "metadata": {},
   "outputs": [
    {
     "name": "stdout",
     "output_type": "stream",
     "text": [
      "replay to ground 完成!time:13 : 47 : 21\n",
      "auto start完成 13 : 47 : 24\n",
      "Episode: 0  Reward: -197 Explore: 0.30\n",
      "replay to ground 完成!time:13 : 47 : 56\n",
      "auto start完成 13 : 47 : 59\n",
      "Episode: 1  Reward: -235 Explore: 0.30\n",
      "replay to ground 完成!time:13 : 48 : 35\n",
      "auto start完成 13 : 48 : 38\n",
      "Episode: 2  Reward: -184 Explore: 0.30\n",
      "replay to ground 完成!time:13 : 49 : 6\n",
      "auto start完成 13 : 49 : 9\n",
      "Episode: 3  Reward: -243 Explore: 0.30\n",
      "replay to ground 完成!time:13 : 49 : 45\n",
      "auto start完成 13 : 49 : 48\n",
      "Episode: 4  Reward: -215 Explore: 0.30\n",
      "replay to ground 完成!time:13 : 50 : 24\n",
      "auto start完成 13 : 50 : 27\n",
      "Episode: 5  Reward: -223 Explore: 0.30\n",
      "replay to ground 完成!time:13 : 51 : 3\n",
      "auto start完成 13 : 51 : 6\n",
      "Episode: 6  Reward: -235 Explore: 0.30\n",
      "replay to ground 完成!time:13 : 51 : 42\n",
      "auto start完成 13 : 51 : 45\n",
      "Episode: 7  Reward: -234 Explore: 0.30\n",
      "replay to ground 完成!time:13 : 52 : 21\n",
      "auto start完成 13 : 52 : 24\n",
      "Episode: 8  Reward: -242 Explore: 0.30\n",
      "replay to ground 完成!time:13 : 52 : 59\n",
      "auto start完成 13 : 53 : 2\n",
      "Episode: 9  Reward: -228 Explore: 0.30\n",
      "replay to ground 完成!time:13 : 53 : 38\n",
      "auto start完成 13 : 53 : 41\n",
      "Episode: 10  Reward: -217 Explore: 0.30\n",
      "replay to ground 完成!time:13 : 54 : 17\n",
      "auto start完成 13 : 54 : 20\n",
      "Episode: 11  Reward: -233 Explore: 0.30\n",
      "replay to ground 完成!time:13 : 54 : 56\n",
      "auto start完成 13 : 54 : 59\n",
      "Episode: 12  Reward: -186 Explore: 0.30\n",
      "replay to ground 完成!time:13 : 55 : 27\n",
      "auto start完成 13 : 55 : 30\n",
      "Episode: 13  Reward: -239 Explore: 0.30\n",
      "replay to ground 完成!time:13 : 56 : 5\n",
      "auto start完成 13 : 56 : 8\n",
      "Episode: 14  Reward: -235 Explore: 0.30\n",
      "replay to ground 完成!time:13 : 56 : 44\n",
      "auto start完成 13 : 56 : 47\n",
      "Episode: 15  Reward: -234 Explore: 0.30\n",
      "replay to ground 完成!time:13 : 57 : 23\n",
      "auto start完成 13 : 57 : 26\n",
      "Episode: 16  Reward: -241 Explore: 0.30\n",
      "replay to ground 完成!time:13 : 58 : 2\n",
      "auto start完成 13 : 58 : 5\n",
      "Episode: 17  Reward: -234 Explore: 0.30\n",
      "replay to ground 完成!time:13 : 58 : 42\n",
      "auto start完成 13 : 58 : 45\n",
      "Episode: 18  Reward: -230 Explore: 0.30\n",
      "replay to ground 完成!time:13 : 59 : 20\n",
      "auto start完成 13 : 59 : 23\n",
      "Episode: 19  Reward: -240 Explore: 0.30\n",
      "replay to ground 完成!time:13 : 59 : 59\n",
      "auto start完成 14 : 0 : 2\n",
      "Episode: 20  Reward: -242 Explore: 0.30\n",
      "replay to ground 完成!time:14 : 0 : 38\n",
      "auto start完成 14 : 0 : 41\n",
      "Episode: 21  Reward: -239 Explore: 0.30\n",
      "replay to ground 完成!time:14 : 1 : 17\n",
      "auto start完成 14 : 1 : 20\n",
      "Episode: 22  Reward: -233 Explore: 0.30\n",
      "replay to ground 完成!time:14 : 1 : 56\n",
      "auto start完成 14 : 1 : 59\n",
      "Episode: 23  Reward: -243 Explore: 0.30\n",
      "replay to ground 完成!time:14 : 2 : 35\n",
      "auto start完成 14 : 2 : 38\n",
      "Episode: 24  Reward: -236 Explore: 0.30\n",
      "replay to ground 完成!time:14 : 3 : 14\n",
      "auto start完成 14 : 3 : 17\n",
      "Episode: 25  Reward: -236 Explore: 0.30\n",
      "replay to ground 完成!time:14 : 3 : 52\n",
      "auto start完成 14 : 3 : 55\n",
      "Episode: 26  Reward: -237 Explore: 0.30\n",
      "replay to ground 完成!time:14 : 4 : 31\n",
      "auto start完成 14 : 4 : 34\n",
      "Episode: 27  Reward: -246 Explore: 0.30\n",
      "replay to ground 完成!time:14 : 5 : 10\n",
      "auto start完成 14 : 5 : 13\n",
      "Episode: 28  Reward: -249 Explore: 0.30\n",
      "replay to ground 完成!time:14 : 5 : 50\n",
      "auto start完成 14 : 5 : 53\n",
      "Episode: 29  Reward: -233 Explore: 0.30\n",
      "replay to ground 完成!time:14 : 6 : 29\n",
      "auto start完成 14 : 6 : 32\n",
      "Episode: 30  Reward: -240 Explore: 0.30\n",
      "replay to ground 完成!time:14 : 7 : 8\n",
      "auto start完成 14 : 7 : 11\n",
      "Episode: 31  Reward: -233 Explore: 0.30\n",
      "replay to ground 完成!time:14 : 7 : 46\n",
      "auto start完成 14 : 7 : 49\n",
      "Episode: 32  Reward: -184 Explore: 0.30\n",
      "replay to ground 完成!time:14 : 8 : 16\n",
      "auto start完成 14 : 8 : 19\n",
      "Episode: 33  Reward: -239 Explore: 0.30\n",
      "replay to ground 完成!time:14 : 8 : 55\n",
      "auto start完成 14 : 8 : 58\n",
      "Episode: 34  Reward: -222 Explore: 0.27\n",
      "replay to ground 完成!time:14 : 9 : 34\n",
      "auto start完成 14 : 9 : 37\n",
      "Episode: 35  Reward: -192 Explore: 0.23\n",
      "replay to ground 完成!time:14 : 10 : 12\n",
      "auto start完成 14 : 10 : 15\n",
      "Episode: 36  Reward: -184 Explore: 0.20\n",
      "replay to ground 完成!time:14 : 10 : 51\n",
      "auto start完成 14 : 10 : 54\n",
      "Episode: 37  Reward: -172 Explore: 0.17\n",
      "replay to ground 完成!time:14 : 11 : 30\n",
      "auto start完成 14 : 11 : 33\n",
      "Episode: 38  Reward: -162 Explore: 0.15\n",
      "replay to ground 完成!time:14 : 12 : 9\n",
      "auto start完成 14 : 12 : 12\n",
      "Episode: 39  Reward: -151 Explore: 0.13\n",
      "replay to ground 完成!time:14 : 12 : 48\n",
      "auto start完成 14 : 12 : 51\n",
      "Episode: 40  Reward: -148 Explore: 0.11\n",
      "replay to ground 完成!time:14 : 13 : 27\n",
      "auto start完成 14 : 13 : 30\n",
      "Episode: 41  Reward: -144 Explore: 0.09\n",
      "replay to ground 完成!time:14 : 14 : 7\n",
      "auto start完成 14 : 14 : 10\n",
      "Episode: 42  Reward: -141 Explore: 0.08\n",
      "replay to ground 完成!time:14 : 14 : 46\n",
      "auto start完成 14 : 14 : 49\n",
      "Episode: 43  Reward: -148 Explore: 0.07\n",
      "replay to ground 完成!time:14 : 15 : 25\n",
      "auto start完成 14 : 15 : 28\n",
      "Episode: 44  Reward: -151 Explore: 0.06\n",
      "replay to ground 完成!time:14 : 16 : 2\n",
      "auto start完成 14 : 16 : 5\n"
     ]
    }
   ],
   "source": [
    " for e in range(epoch):\n",
    "        state = myfgenv.replay()\n",
    "        time.sleep(2)\n",
    "\n",
    "        next_goal = goal\n",
    "\n",
    "        ep_reward = 0\n",
    "\n",
    "        for s in range(step):\n",
    "        \n",
    "            \n",
    "            old_action = action \n",
    "            action,action_true = myllc.choose_action(state,goal)\n",
    "            \n",
    "\n",
    "            action_frame = dfer.action2frame((action_true[0],0.0,action_true[1],action_true[2],action_true[2]))\n",
    "            \n",
    "            next_state, reward , done , info = myfgenv.step(action_frame) \n",
    "            \n",
    "            r_ = LLCsimple.llc_reward(state , goal,old_action,action ,reward)\n",
    "            \n",
    "            next_goal = goals\n",
    "            myllc.learn(state, goal, r_, action,next_state , next_goal)\n",
    "            \n",
    "            state = next_state\n",
    "            goal = next_goal\n",
    "\n",
    "            ep_reward += r_\n",
    "            if done:\n",
    "                print('Episode:', e, ' Reward: %i' %\n",
    "                      int(ep_reward), 'Explore: %.2f' % myllc.var, )\n",
    "                break\n",
    "            \n",
    "            if s == step-1:\n",
    "                print('Episode:', e, ' Reward: %i' %\n",
    "                      int(ep_reward), 'Explore: %.2f' % myllc.var, )\n",
    "                # if ep_reward > -300:RENDER = True\n",
    "                break\n",
    "            time.sleep(0.1)"
   ]
  },
  {
   "cell_type": "code",
   "execution_count": 38,
   "metadata": {},
   "outputs": [
    {
     "data": {
      "text/plain": [
       "25081"
      ]
     },
     "execution_count": 38,
     "metadata": {},
     "output_type": "execute_result"
    }
   ],
   "source": [
    "myllc.ddpg.pointer"
   ]
  },
  {
   "cell_type": "code",
   "execution_count": 37,
   "metadata": {},
   "outputs": [
    {
     "name": "stdout",
     "output_type": "stream",
     "text": [
      "0.0027973283603017762\n"
     ]
    }
   ],
   "source": [
    "t1= time.clock()\n",
    "myllc.learn(state, goal, r_, action,next_state , next_goal)\n",
    "print(time.clock()-t1)"
   ]
  }
 ],
 "metadata": {
  "kernelspec": {
   "display_name": "Python 3",
   "language": "python",
   "name": "python3"
  },
  "language_info": {
   "codemirror_mode": {
    "name": "ipython",
    "version": 3
   },
   "file_extension": ".py",
   "mimetype": "text/x-python",
   "name": "python",
   "nbconvert_exporter": "python",
   "pygments_lexer": "ipython3",
   "version": "3.6.7"
  }
 },
 "nbformat": 4,
 "nbformat_minor": 2
}
